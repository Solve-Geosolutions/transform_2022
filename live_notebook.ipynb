{
 "cells": [
  {
   "cell_type": "markdown",
   "metadata": {},
   "source": [
    "<h1 style=\"text-align: center; font-size: 3.5rem; font-weigth: bold; margin-top: 170px;\">\n",
    "  Geospatial ML Challenges: A prospectivity analysis example\n",
    "</h1>\n",
    "\n",
    "<h2 style=\"text-align: center; margin-bottom: 120px;\">\n",
    "  Thomas Ostersen & Tom Carmichael\n",
    "</h2>\n",
    "\n",
    "<h3 style=\"text-align: center;\"><strong>Repository for the tutorial:</strong> <a href=\"https://github.com/Solve-Geosolutions/transform_2022\">github.com/Solve-Geosolutions/transform_2022</a></h3>\n",
    "\n",
    "<div align=\"center\" style=\"margin-bottom: 100px;\">\n",
    "    <center><img src=\"assets/swung.svg\" style=\"height: 100px; margin-bottom:50px\"></center>\n",
    "    <center><img src=\"assets/datarock-black.png\" style=\"height: 100px\"></center>\n",
    "</div>"
   ]
  },
  {
   "cell_type": "markdown",
   "metadata": {},
   "source": [
    "## Study Area: Northeastern Tasmania\n",
    "\n",
    "* Oldest rocks belong to thick package of folded Ordovician Mathinna Supergroup sediments\n",
    "* These extensively intruded by granitoids in the Devonian\n",
    "* Study area is prospective for intrusion related tin-tungsten and gold mineralisation\n",
    "\n",
    "<img src=\"assets/hong_et_al_2019_tasgeomap.png\" style=\"width: 800px\" />\n",
    "\n",
    "<center>Figure modifed from <a href=https://doi.org/10.2138/am-2019-6534>Hong et al, (2019)</a></center>"
   ]
  },
  {
   "cell_type": "markdown",
   "metadata": {},
   "source": [
    "## Download Data Sets\n",
    "\n",
    "  1. Download the zipped data set from our [Google drive location](https://drive.google.com/file/d/1ahrYZlvnrZuSdDrwEbhajFrofC3VQPek/view?usp=sharing)\n",
    "  \n",
    "<img src=\"assets/download_data.png\" style=\"width: 400px\" />\n",
    "  \n",
    "  2. Unzip the data directory \n",
    "  "
   ]
  },
  {
   "cell_type": "markdown",
   "metadata": {},
   "source": [
    "## Roadmap\n",
    "\n",
    "  1. Load and inspect data sets\n",
    "      - mineral occurence point data sets with *geopandas*\n",
    "      - gravity, magnetic and radiometric data sets with *rasterio*\n",
    "  1. Combine data sets to build a labeled N<sub>pixel</sub>, N<sub>layers</sub> array for model training\n",
    "      - inspect differences between proximal vs. distal to mineralisation pixels      \n",
    "  1. Train a random forest classifier and apply to all pixels, visualise results\n",
    "      - evaluate performance with a randomly selected testing subset\n",
    "      - repeat with stratified classes      \n",
    "  1. Develop a checkerboard data selection procedure, train and evaluate models\n",
    "      - discuss effects of spatially separated testing data      \n",
    "  1. Investigate occurence holdout models with a spatially clustered approach\n",
    " \n",
    "---"
   ]
  },
  {
   "cell_type": "code",
   "execution_count": null,
   "metadata": {},
   "outputs": [],
   "source": [
    "# import key packages\n"
   ]
  }
 ],
 "metadata": {
  "interpreter": {
   "hash": "ddde3c07babc53dc58854aefe2e9e24c72c5582b4a554f17e28720a9890a9216"
  },
  "kernelspec": {
   "display_name": "Python 3 (ipykernel)",
   "language": "python",
   "name": "python3"
  },
  "language_info": {
   "codemirror_mode": {
    "name": "ipython",
    "version": 3
   },
   "file_extension": ".py",
   "mimetype": "text/x-python",
   "name": "python",
   "nbconvert_exporter": "python",
   "pygments_lexer": "ipython3",
   "version": "3.8.13"
  }
 },
 "nbformat": 4,
 "nbformat_minor": 4
}
