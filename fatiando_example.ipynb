{
 "cells": [
  {
   "cell_type": "markdown",
   "id": "db2fb9a3-6015-4826-9b7e-43ddcb3d02bb",
   "metadata": {},
   "source": [
    "<h1 style=\"text-align: center; font-size: 3.5rem; font-weigth: bold; margin-top: 170px;\">\n",
    "  Processing gravity data with Harmonica\n",
    "</h1>\n",
    "\n",
    "<h2 style=\"text-align: center; margin-bottom: 120px;\">\n",
    "  Santiago Soler, Andrea Balza Morales and Agustina Pesce\n",
    "</h2>\n",
    "\n",
    "<h3 style=\"text-align: center;\"><strong>Repository for the tutorial:</strong> <a href=\"https://github.com/fatiando/transform21\">github.com/fatiando/transform21</a></h3>\n",
    "<h3 style=\"text-align: center;\"><strong>Q&A:</strong> <a href=\"https://softwareunderground.org/\">Software Underground</a> channel <code>#t21-thurs-harmonica</code></h3>\n",
    "<h3 style=\"text-align: center; margin-bottom: 50px;\"><strong>Office hours:</strong> Friday 11:00 AM GMT at the Chateau</h3>\n",
    "\n",
    "<div align=\"center\" style=\"margin-bottom: 200px;\">\n",
    "    <img src=\"logos/swung.svg\" style=\"height: 100px; margin-right: 10%\">\n",
    "    <img src=\"logos/studiox.png\" style=\"height: 50px; margin-right: 15%\">\n",
    "    <img src=\"logos/agile.png\" style=\"height: 120px;\">\n",
    "</div>"
   ]
  },
  {
   "cell_type": "markdown",
   "id": "ed577039-4602-4f62-a9cb-a6416c978a45",
   "metadata": {},
   "source": [
    "<img src=\"https://raw.githubusercontent.com/fatiando/logo/master/banner/fatiando-banner-small-dark.png\">\n",
    "\n",
    "<div align=\"center\">\n",
    "    <img src=\"https://raw.githubusercontent.com/fatiando/harmonica/master/doc/_static/readme-banner.png\" style=\"width: 40%;\">\n",
    "    <img src=\"https://www.fatiando.org/_static/boule-logo.svg\" style=\"width: 40%;\">\n",
    "</div>\n",
    "<div align=\"center\">\n",
    "    <img src=\"https://raw.githubusercontent.com/fatiando/logo/master/verde-logo.png\" style=\"width: 40%; margin-right: 2%;\">\n",
    "    <img src=\"https://raw.githubusercontent.com/fatiando/pooch/master/doc/_static/readme-banner.png\" style=\"width: 40%;\">\n",
    "</div>"
   ]
  },
  {
   "cell_type": "markdown",
   "id": "a43df9d7-216b-4a97-9a6c-9a18dab16a41",
   "metadata": {},
   "source": [
    "## Study Area: Bushveld Igneous Complex\n",
    "\n",
    "* Located in South Africa\n",
    "* Largest layered igneous intrusion within the Earth's crust\n",
    "* Has been tilted and eroded forming the outcrops around what appears to be the edge of a great geological basin.\n",
    "* Divided into different lobes \n",
    "\n",
    "<img src=\"img/study-area.png\">\n",
    "\n",
    "_[Webb et al, (2004)](https://doi.org/10.2113/107.1-2.207)_"
   ]
  },
  {
   "cell_type": "markdown",
   "id": "16c5e35c-b7cd-4e83-a2a7-a0604ec6fb1b",
   "metadata": {},
   "source": [
    "## Roadmap\n",
    "\n",
    "1. Load a **gravity dataset** of South Africa.\n",
    "1. Slice the dataset to the **Bushveld Igneous Complex** area.\n",
    "1. **Project** the data to plain coordinates.\n",
    "1. Compute **gravity disturbance** by removing the normal gravity through Boule.\n",
    "1. Load a **digital elevation model** (DEM) of the survey area.\n",
    "1. Compute **Bouguer gravity disturbance** by forward modelling the topography with prisms.\n",
    "1. *Take a break (10 or 15 mins)*\n",
    "1. **Interpolate** the Bouguer gravity disturbance onto a regular grid at a constant height through the **equivalent layer technique**.\n",
    "1. Obtain the Bouguer gravity disturbance on a **profile** using the same equivalent layer."
   ]
  },
  {
   "cell_type": "markdown",
   "id": "c9054021-2020-4f74-935b-4c3eb1247bbf",
   "metadata": {},
   "source": [
    "## Import packages"
   ]
  },
  {
   "cell_type": "code",
   "execution_count": null,
   "id": "27c6464c-34c0-4c3d-846d-0cc4eb2b9b44",
   "metadata": {},
   "outputs": [],
   "source": []
  },
  {
   "cell_type": "markdown",
   "id": "8e81f667-0bd9-46f6-9287-e1c5ccd84ad0",
   "metadata": {
    "jupyter": {
     "source_hidden": true
    },
    "tags": []
   },
   "source": [
    "<h1 align=\"center\">Thanks!</h1>\n",
    "\n",
    "## Extra resources\n",
    "\n",
    "* Fatiando a Terra: https://www.fatiando.org\n",
    "* Gradient-boosted equivalent sources. Read the **preprint** here https://www.compgeolab.org/publications/eql-gradient-boosted.html\n",
    "* EGU21 vPICO talks:\n",
    "    * Gradient-boosted equivalent sources for gridding large gravity and magnetic datasets. doi: [10.5194/egusphere-egu21-1276](https://doi.org/10.5194/egusphere-egu21-1276)\n",
    "    * Harmonica and Boule: Modern Python tools for geophysical gravimetry. doi: [10.5194/egusphere-egu21-8291](https://doi.org/10.5194/egusphere-egu21-8291)\n",
    "    \n",
    "## We want your help!\n",
    "\n",
    "\n",
    "* Submitting bug reports and feature requests\n",
    "* Writing tutorials or examples\n",
    "* Fixing typos and improving to the documentation\n",
    "* Writing code for everyone to use\n",
    "\n",
    "\n",
    "## See you in the Chateau during the office hours!"
   ]
  }
 ],
 "metadata": {
  "kernelspec": {
   "display_name": "Python 3 (ipykernel)",
   "language": "python",
   "name": "python3"
  },
  "language_info": {
   "codemirror_mode": {
    "name": "ipython",
    "version": 3
   },
   "file_extension": ".py",
   "mimetype": "text/x-python",
   "name": "python",
   "nbconvert_exporter": "python",
   "pygments_lexer": "ipython3",
   "version": "3.8.5"
  },
  "toc-autonumbering": false,
  "toc-showtags": false
 },
 "nbformat": 4,
 "nbformat_minor": 5
}
